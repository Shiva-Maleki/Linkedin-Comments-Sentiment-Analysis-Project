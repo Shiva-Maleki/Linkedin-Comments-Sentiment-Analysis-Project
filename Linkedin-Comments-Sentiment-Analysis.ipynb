{
 "cells": [
  {
   "cell_type": "code",
   "execution_count": 41,
   "id": "1d78bb00",
   "metadata": {},
   "outputs": [
    {
     "name": "stdout",
     "output_type": "stream",
     "text": [
      "Comments Scraped and Saved!\n"
     ]
    }
   ],
   "source": [
    "#######  Scrape LinkedIn Comments\n",
    "#######\n",
    "from selenium import webdriver\n",
    "from selenium.webdriver.common.by import By\n",
    "from selenium.webdriver.common.keys import Keys\n",
    "import time\n",
    "import pandas as pd\n",
    "\n",
    "# LinkedIn Login Details (replace with your credentials)\n",
    "USERNAME = \"Write_Your_UserName\"\n",
    "PASSWORD = \"Write_Your_UserPassWord\"\n",
    "\n",
    "# LinkedIn Post URL\n",
    "post_url = \"https://www.linkedin.com/posts/activity-7126201195827744768-yOrn\"\n",
    "\n",
    "# Start WebDriver\n",
    "driver = webdriver.Chrome()\n",
    "\n",
    "# Open LinkedIn and log in\n",
    "driver.get(\"https://www.linkedin.com/login\")\n",
    "time.sleep(2)\n",
    "driver.find_element(By.ID, \"username\").send_keys(USERNAME)\n",
    "driver.find_element(By.ID, \"password\").send_keys(PASSWORD)\n",
    "driver.find_element(By.ID, \"password\").send_keys(Keys.RETURN)\n",
    "time.sleep(3)\n",
    "\n",
    "# Open post URL\n",
    "driver.get(post_url)\n",
    "time.sleep(3)\n",
    "\n",
    "# Scroll to load all comments\n",
    "for _ in range(5):  \n",
    "    driver.find_element(By.TAG_NAME, \"body\").send_keys(Keys.END)\n",
    "    time.sleep(2)\n",
    "\n",
    "# Extract comments\n",
    "comments = driver.find_elements(By.CLASS_NAME, \"comments-comment-item__main-content\")\n",
    "comment_texts = [comment.text for comment in comments]\n",
    "\n",
    "# Close WebDriver\n",
    "driver.quit()\n",
    "\n",
    "# Save comments to CSV\n",
    "df = pd.DataFrame(comment_texts, columns=[\"Comment\"])\n",
    "df.to_csv(\"linkedin_comments.csv\", index=False)\n",
    "\n",
    "print(\"Comments Scraped and Saved!\")"
   ]
  },
  {
   "cell_type": "code",
   "execution_count": 19,
   "id": "ab75bbd9",
   "metadata": {},
   "outputs": [
    {
     "name": "stdout",
     "output_type": "stream",
     "text": [
      "Total comments scraped: 61\n",
      "Comments successfully saved!\n"
     ]
    }
   ],
   "source": [
    "from selenium import webdriver\n",
    "from selenium.webdriver.common.by import By\n",
    "from selenium.webdriver.common.keys import Keys\n",
    "import time\n",
    "\n",
    "# LinkedIn login credentials\n",
    "USERNAME = \"shiva.maleki119@gmail.com\"\n",
    "PASSWORD = \"m_0011_SH\"\n",
    "\n",
    "# LinkedIn Post URL\n",
    "post_url = \"https://www.linkedin.com/posts/activity-7126201195827744768-yOrn\"\n",
    "\n",
    "# Initialize WebDriver\n",
    "driver = webdriver.Chrome()\n",
    "\n",
    "# Open LinkedIn login page\n",
    "driver.get(\"https://www.linkedin.com/login\")\n",
    "time.sleep(2)\n",
    "driver.find_element(By.ID, \"username\").send_keys(USERNAME)\n",
    "driver.find_element(By.ID, \"password\").send_keys(PASSWORD)\n",
    "driver.find_element(By.ID, \"password\").send_keys(Keys.RETURN)\n",
    "time.sleep(3)\n",
    "\n",
    "# Open LinkedIn post\n",
    "driver.get(post_url)\n",
    "time.sleep(3)\n",
    "\n",
    "# Scroll down to load comments\n",
    "scroll_attempts = 10  # Number of scrolls (increase if needed)\n",
    "for _ in range(scroll_attempts):\n",
    "    driver.find_element(By.TAG_NAME, \"body\").send_keys(Keys.END)\n",
    "    time.sleep(2)  # Give LinkedIn time to load more comments\n",
    "\n",
    "# Extract all comments\n",
    "comments = driver.find_elements(By.CLASS_NAME, \"comments-comment-item__main-content\")\n",
    "comment_texts = [comment.text for comment in comments]\n",
    "\n",
    "# Print number of comments scraped\n",
    "print(f\"Total comments scraped: {len(comment_texts)}\")\n",
    "\n",
    "# Save comments to a CSV file\n",
    "import pandas as pd\n",
    "df = pd.DataFrame(comment_texts, columns=[\"Comment\"])\n",
    "df.to_csv(\"linkedin_comments.csv\", index=False)\n",
    "\n",
    "print(\"Comments successfully saved!\")\n",
    "\n",
    "# Close WebDriver\n",
    "driver.quit()"
   ]
  },
  {
   "cell_type": "code",
   "execution_count": 42,
   "id": "7a456830",
   "metadata": {},
   "outputs": [
    {
     "name": "stdout",
     "output_type": "stream",
     "text": [
      "                                             Comment Sentiment\n",
      "0                  آفرین دختر با همین فرمون بروووووو   5 stars\n",
      "1                         صدردصد با همین فرمون برووو    1 star\n",
      "2                    Very well deserved Dr. Shiva!❤️   5 stars\n",
      "3  Thank you so much Niloofar joon! ❤️ It is kind...   5 stars\n",
      "4  مبارکمون باشه شیوا جونم.\\nبهت افتخار میکنیم😍❤️...   5 stars\n",
      "Columns in DataFrame: Index(['Comment', 'Sentiment'], dtype='object')\n",
      "Number of rows: 61\n"
     ]
    }
   ],
   "source": [
    "##### Check if Data is Loaded Correctly\n",
    "#####\n",
    "import pandas as pd\n",
    "\n",
    "# Load the dataset\n",
    "df = pd.read_csv(\"linkedin_comments_sentiment.csv\")\n",
    "\n",
    "# Print first few rows\n",
    "print(df.head())\n",
    "\n",
    "# Check if Sentiment column exists\n",
    "print(\"Columns in DataFrame:\", df.columns)\n",
    "\n",
    "# Check if there are empty rows\n",
    "print(\"Number of rows:\", len(df))"
   ]
  },
  {
   "cell_type": "code",
   "execution_count": 43,
   "id": "7157e1cd",
   "metadata": {},
   "outputs": [
    {
     "data": {
      "image/png": "[encoded data removed]",
      "text/plain": [
       "<Figure size 576x360 with 1 Axes>"
      ]
     },
     "metadata": {
      "needs_background": "light"
     },
     "output_type": "display_data"
    }
   ],
   "source": [
    "import matplotlib.pyplot as plt\n",
    "import seaborn as sns\n",
    "\n",
    "# Load data\n",
    "df = pd.read_csv(\"linkedin_comments_sentiment.csv\")\n",
    "\n",
    "# Plot Sentiment Distribution\n",
    "plt.figure(figsize=(8, 5))\n",
    "sns.countplot(y=df[\"Sentiment\"], palette=\"coolwarm\")\n",
    "plt.xlabel(\"Count\")\n",
    "plt.ylabel(\"Sentiment\")\n",
    "plt.title(\"Sentiment Analysis of LinkedIn Comments\")\n",
    "plt.show()"
   ]
  },
  {
   "cell_type": "code",
   "execution_count": 44,
   "id": "5e2523f3",
   "metadata": {},
   "outputs": [
    {
     "name": "stdout",
     "output_type": "stream",
     "text": [
      "                                             Comment Sentiment\n",
      "0                  آفرین دختر با همین فرمون بروووووو   5 stars\n",
      "1                         صدردصد با همین فرمون برووو    1 star\n",
      "2                    Very well deserved Dr. Shiva!❤️   5 stars\n",
      "3  Thank you so much Niloofar joon! ❤️ It is kind...   5 stars\n",
      "4  مبارکمون باشه شیوا جونم.\\nبهت افتخار میکنیم😍❤️...   5 stars\n",
      "Total Comments: 61\n",
      "Sentiment Distribution:\n",
      " 5 stars    60\n",
      "1 star      1\n",
      "Name: Sentiment, dtype: int64\n"
     ]
    }
   ],
   "source": [
    "##### Load and Review Sentiment Data\n",
    "##### \n",
    "import pandas as pd\n",
    "\n",
    "# Load the sentiment analysis results\n",
    "df = pd.read_csv(\"linkedin_comments_sentiment.csv\")\n",
    "\n",
    "# Display first few rows\n",
    "print(df.head())\n",
    "\n",
    "# Check dataset summary\n",
    "print(\"Total Comments:\", len(df))\n",
    "print(\"Sentiment Distribution:\\n\", df[\"Sentiment\"].value_counts())"
   ]
  },
  {
   "cell_type": "code",
   "execution_count": 45,
   "id": "f755a526",
   "metadata": {},
   "outputs": [
    {
     "name": "stdout",
     "output_type": "stream",
     "text": [
      "POSITIVE    60\n",
      "NEGATIVE     1\n",
      "Name: Sentiment, dtype: int64\n"
     ]
    }
   ],
   "source": [
    "##### Convert Star Ratings to Categories\n",
    "##### Modify your dataset to map the star ratings to \"POSITIVE\", \"NEUTRAL\", and \"NEGATIVE\" categories.\n",
    "#####\n",
    "# Convert sentiment from star ratings to categorical labels\n",
    "df[\"Sentiment\"] = df[\"Sentiment\"].astype(str).str.strip().str.lower()  # Normalize text\n",
    "\n",
    "# Map star ratings to categories\n",
    "sentiment_mapping = {\n",
    "    \"5 stars\": \"POSITIVE\",\n",
    "    \"4 stars\": \"POSITIVE\",\n",
    "    \"3 stars\": \"NEUTRAL\",\n",
    "    \"2 stars\": \"NEGATIVE\",\n",
    "    \"1 star\": \"NEGATIVE\"\n",
    "}\n",
    "\n",
    "# Apply mapping\n",
    "df[\"Sentiment\"] = df[\"Sentiment\"].replace(sentiment_mapping)\n",
    "\n",
    "# Save cleaned data\n",
    "df.to_csv(\"linkedin_comments_sentiment_clean.csv\", index=False)\n",
    "\n",
    "print(df[\"Sentiment\"].value_counts())  # Check new distribution"
   ]
  },
  {
   "cell_type": "code",
   "execution_count": 46,
   "id": "db6ef7a1",
   "metadata": {},
   "outputs": [
    {
     "data": {
      "image/png": "[encoded data removed]",
      "text/plain": [
       "<Figure size 576x360 with 1 Axes>"
      ]
     },
     "metadata": {
      "needs_background": "light"
     },
     "output_type": "display_data"
    }
   ],
   "source": [
    "##### Analyze Sentiment Distribution (Positive vs. Negative)\n",
    "#####\n",
    "import matplotlib.pyplot as plt\n",
    "import seaborn as sns\n",
    "\n",
    "# Plot sentiment distribution\n",
    "plt.figure(figsize=(8, 5))\n",
    "sns.countplot(data=df, x=\"Sentiment\", palette=\"coolwarm\", order=[\"POSITIVE\", \"NEUTRAL\", \"NEGATIVE\"])\n",
    "plt.xlabel(\"Sentiment Category\")\n",
    "plt.ylabel(\"Count of Comments\")\n",
    "plt.title(\"Sentiment Analysis of LinkedIn Comments\")\n",
    "plt.show()"
   ]
  },
  {
   "cell_type": "code",
   "execution_count": 47,
   "id": "754c805b",
   "metadata": {},
   "outputs": [
    {
     "name": "stdout",
     "output_type": "stream",
     "text": [
      "Sentiment Percentage:\n",
      " POSITIVE    98.360656\n",
      "NEGATIVE     1.639344\n",
      "Name: Sentiment, dtype: float64\n"
     ]
    }
   ],
   "source": [
    "##### Analyze Percentage of Positive vs. Negative Comments\n",
    "#####\n",
    "# Load cleaned sentiment data\n",
    "df = pd.read_csv(\"linkedin_comments_sentiment_clean.csv\")\n",
    "\n",
    "# Count the number of each sentiment\n",
    "sentiment_counts = df[\"Sentiment\"].value_counts()\n",
    "\n",
    "# Convert to percentage\n",
    "sentiment_percentage = (sentiment_counts / len(df)) * 100\n",
    "\n",
    "# Display the results\n",
    "print(\"Sentiment Percentage:\\n\", sentiment_percentage)\n"
   ]
  },
  {
   "cell_type": "code",
   "execution_count": 50,
   "id": "2f6df721",
   "metadata": {},
   "outputs": [
    {
     "name": "stdout",
     "output_type": "stream",
     "text": [
      "Top 10 Positive Words: [('shiva', 23), ('congratulations', 22), ('thanks', 22), ('joon', 16), ('kindness', 9), ('lot', 8), ('thank', 7), ('much', 7), ('jan', 7), ('proud', 5)]\n",
      "Top 10 Negative Words: []\n"
     ]
    },
    {
     "name": "stderr",
     "output_type": "stream",
     "text": [
      "[nltk_data] Downloading package stopwords to\n",
      "[nltk_data]     C:\\Users\\Shiva\\AppData\\Roaming\\nltk_data...\n",
      "[nltk_data]   Unzipping corpora\\stopwords.zip.\n"
     ]
    }
   ],
   "source": [
    "#####  Identify Most Frequent Words in Positive & Negative Comments\n",
    "#####\n",
    "from collections import Counter\n",
    "from wordcloud import WordCloud\n",
    "import re\n",
    "import nltk\n",
    "from nltk.corpus import stopwords\n",
    "\n",
    "# Download stopwords if not already downloaded\n",
    "nltk.download(\"stopwords\")\n",
    "stop_words = set(stopwords.words(\"english\"))\n",
    "\n",
    "# Function to clean text\n",
    "def clean_text(text):\n",
    "    text = re.sub(r\"[^a-zA-Z ]\", \"\", text.lower())  # Remove special characters & lowercase\n",
    "    words = text.split()\n",
    "    return [word for word in words if word not in stop_words and len(word) > 2]  # Remove stopwords\n",
    "\n",
    "# Separate positive & negative comments\n",
    "positive_comments = df[df[\"Sentiment\"] == \"POSITIVE\"][\"Comment\"].astype(str).apply(clean_text)\n",
    "negative_comments = df[df[\"Sentiment\"] == \"NEGATIVE\"][\"Comment\"].astype(str).apply(clean_text)\n",
    "\n",
    "# Flatten lists & count words\n",
    "positive_words = Counter([word for sublist in positive_comments for word in sublist])\n",
    "negative_words = Counter([word for sublist in negative_comments for word in sublist])\n",
    "\n",
    "# Display most common words\n",
    "print(\"Top 10 Positive Words:\", positive_words.most_common(10))\n",
    "print(\"Top 10 Negative Words:\", negative_words.most_common(10))"
   ]
  },
  {
   "cell_type": "code",
   "execution_count": 56,
   "id": "ed957e5a",
   "metadata": {},
   "outputs": [
    {
     "data": {
      "image/png": "[encoded data removed]",
      "text/plain": [
       "<Figure size 720x360 with 1 Axes>"
      ]
     },
     "metadata": {
      "needs_background": "light"
     },
     "output_type": "display_data"
    }
   ],
   "source": [
    "##### Identify Most Engaging Topics\n",
    "##### To discover which topics generate the most engagement, analyze keywords.\n",
    "#####\n",
    "topic_keywords = [\"AI\", \"Harvard\", \"Machine Learning\", \"Hiring\", \"Job\", \"Research\", \"Congratulations\", \"Proud\", \"Wish\"]\n",
    "\n",
    "# Extract topics from comments\n",
    "df[\"Topic\"] = df[\"Comment\"].apply(lambda x: next((word for word in topic_keywords if word.lower() in x.lower()), \"Other\"))\n",
    "\n",
    "# Count engagement per topic\n",
    "topic_counts = df[\"Topic\"].value_counts()\n",
    "\n",
    "# Plot most discussed topics\n",
    "import seaborn as sns\n",
    "\n",
    "plt.figure(figsize=(10, 5))\n",
    "sns.barplot(x=topic_counts.index, y=topic_counts.values, palette=\"coolwarm\")\n",
    "plt.xlabel(\"Topic\")\n",
    "plt.ylabel(\"Number of Comments\")\n",
    "plt.title(\"Most Discussed Topics in LinkedIn Comments\")\n",
    "plt.xticks(rotation=45)\n",
    "plt.show()"
   ]
  },
  {
   "cell_type": "code",
   "execution_count": null,
   "id": "02f4be86",
   "metadata": {},
   "outputs": [],
   "source": []
  }
 ],
 "metadata": {
  "kernelspec": {
   "display_name": "Python 3 (ipykernel)",
   "language": "python",
   "name": "python3"
  },
  "language_info": {
   "codemirror_mode": {
    "name": "ipython",
    "version": 3
   },
   "file_extension": ".py",
   "mimetype": "text/x-python",
   "name": "python",
   "nbconvert_exporter": "python",
   "pygments_lexer": "ipython3",
   "version": "3.9.7"
  }
 },
 "nbformat": 4,
 "nbformat_minor": 5
}
